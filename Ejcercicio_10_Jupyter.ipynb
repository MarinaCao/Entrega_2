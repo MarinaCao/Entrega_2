{
 "cells": [
  {
   "cell_type": "markdown",
   "metadata": {},
   "source": [
    "Un club de hockey posee las estadísticas de todxs sus jugadorxs de la última\n",
    "temporada jugada del torneo de hockey mixto. Poseen una lista con los nombres, otra\n",
    "con los goles a favor, otra con los goles evitados y la última con las asistencias\n",
    "realizadas. El club está por otorgar los premios de cierre de temporada y necesita:\n",
    "1. Generar una estructura todas las estadísticas asociadas a cada jugador o\n",
    "jugadora.\n",
    "2. Conocer el nombre y la cantidad de goles del goleador o goleadora.\n",
    "3. Conocer el nombre del jugador o jugadora más influyente, esto se consigue\n",
    "sumando goles a favor, goles evitados y cantidad de asistencias. La particularidad\n",
    "es que los goles a favor, evitados y las asistencias NO valen lo mismo (es un\n",
    "promedio ponderado):\n",
    "4. Conocer el promedio de goles por partido del equipo en general. Dato: Se jugaron\n",
    "25 partidos en la temporada.\n",
    "5. Conocer el promedio de goles por partido del goleador o goleadora. Dato: Se\n",
    "jugaron 25 partidos en la temporada.\n",
    "(Nota: Las 4 estructuras están ordenadas de forma que los elementos en la misma\n",
    "posición corresponden a un mismo jugador o jugadora.\n",
    "Realizar funciones con cada ítem)\n"
   ]
  },
  {
   "cell_type": "code",
   "execution_count": 52,
   "metadata": {},
   "outputs": [],
   "source": [
    "names = \"\"\" Agustin, Yanina, Andrés, Ariadna, Bautista, CAROLINA, CESAR, David, Diego, Dolores, DYLAN, ELIANA, Emanuel, Fabián, Noelia, Francsica, FEDERICO/', Fernanda, GONZALO, Nancy \"\"\"\n",
    "goals = [0, 10, 4, 0, 5, 14, 0, 0, 7, 2, 1, 1, 1, 5, 6, 1, 1, 2, 0, 11]\n",
    "goals_avoided = [0, 2, 0, 0, 5, 2, 0, 0, 1, 2, 0, 5, 5, 0, 1, 0, 2, 3, 0, 0]\n",
    "assists = [0, 5, 1, 0, 5, 2, 0, 0, 1, 2, 1, 5, 5, 0, 1, 0, 2, 3, 1, 0]"
   ]
  },
  {
   "cell_type": "code",
   "execution_count": 53,
   "metadata": {},
   "outputs": [],
   "source": [
    "#Genero una lista de tuplas para guardar datos de los jugadores\n",
    "def generate_estructure(names, goals, assists, goals_avoided):\n",
    "    #Esto lo hago para agregar correctamente cada nombre sin problemas\n",
    "    names = \"\"\" Agustin, Yanina, Andrés, Ariadna, Bautista, CAROLINA, CESAR, David, Diego, Dolores, DYLAN, ELIANA, Emanuel, Fabián, Noelia, Francsica\\', FEDERICO, Fernanda, GONZALO, Nancy \"\"\".split(', ')\n",
    "    player_stats = []\n",
    "    for name, goal, assist, goal_avoi in zip(names, goals, assists, goals_avoided):\n",
    "        player_stats.append((name, {\"Goals: \": goal, \"Assists:\": assist, \"Goals Avoided: \": goal_avoi}))\n",
    "    return player_stats\n",
    "#Funcion de buscar el goleador/a con mas goles echos\n",
    "def sub_inciso2(player_stats):\n",
    "    top_scorer = max(player_stats, key=lambda x: x[1]['Goals: '])\n",
    "    return top_scorer\n",
    "#Funcion que me muestra el jugador con mas influencia en vace a los valores dados\n",
    "def calculate_influence_score(player_stats):\n",
    "    for player in player_stats:\n",
    "        name, stats = player\n",
    "        goals = stats[\"Goals: \"]\n",
    "        assists = stats[\"Assists:\"]\n",
    "        goals_avoided = stats[\"Goals Avoided: \"]\n",
    "        influence_score = (goals * 1.5) + (assists * 1) + (goals_avoided * 1.25)\n",
    "        stats[\"Influence Score\"] = influence_score\n",
    "    \n",
    "    return player_stats\n",
    "#Busco el mejor de todos\n",
    "def find_most_influential_player(player_stats):\n",
    "    player_stats = calculate_influence_score(player_stats)\n",
    "    most_influential_player = max(player_stats, key=lambda x: x[1]['Influence Score'])   \n",
    "    return most_influential_player\n",
    "#Calculo promedio de goles de los 25 partidos\n",
    "def calculate_team_average_goals(player_stats, total_matches):\n",
    "    total_goals = sum(stats[\"Goals: \"] for _, stats in player_stats)\n",
    "    average_goals = total_goals / total_matches\n",
    "    return average_goals\n",
    "#\n",
    "def calculate_top_scorer_average_goals(player_stats, total_matches):\n",
    "    # Encuentra al goleador o goleadora\n",
    "    top_scorer = sub_inciso2(player_stats)\n",
    "    name, stats = top_scorer\n",
    "    total_goals = stats[\"Goals: \"]\n",
    "    average_goals = total_goals / total_matches\n",
    "    return name, average_goals"
   ]
  },
  {
   "cell_type": "code",
   "execution_count": 54,
   "metadata": {},
   "outputs": [
    {
     "name": "stdout",
     "output_type": "stream",
     "text": [
      "El goleador o goleadora es CAROLINA con 14 goles.\n",
      "El jugador o jugadora más influyente es CAROLINA con un valor ponderado de 25.5.\n",
      "El promedio de goles por partido del equipo es 2.84 goles.\n"
     ]
    },
    {
     "ename": "NameError",
     "evalue": "name 'find_top_scorer' is not defined",
     "output_type": "error",
     "traceback": [
      "\u001b[1;31m---------------------------------------------------------------------------\u001b[0m",
      "\u001b[1;31mNameError\u001b[0m                                 Traceback (most recent call last)",
      "Cell \u001b[1;32mIn[54], line 13\u001b[0m\n\u001b[0;32m     11\u001b[0m \u001b[38;5;28mprint\u001b[39m(\u001b[38;5;124mf\u001b[39m\u001b[38;5;124m\"\u001b[39m\u001b[38;5;124mEl promedio de goles por partido del equipo es \u001b[39m\u001b[38;5;132;01m{\u001b[39;00mteam_average_goals\u001b[38;5;132;01m:\u001b[39;00m\u001b[38;5;124m.2f\u001b[39m\u001b[38;5;132;01m}\u001b[39;00m\u001b[38;5;124m goles.\u001b[39m\u001b[38;5;124m\"\u001b[39m)\n\u001b[0;32m     12\u001b[0m \u001b[38;5;66;03m# Calcula el promedio de goles por partido del goleador o goleadora\u001b[39;00m\n\u001b[1;32m---> 13\u001b[0m top_scorer_name, top_scorer_average_goals \u001b[38;5;241m=\u001b[39m \u001b[43mcalculate_top_scorer_average_goals\u001b[49m\u001b[43m(\u001b[49m\u001b[43mplayer_stats\u001b[49m\u001b[43m,\u001b[49m\u001b[43m \u001b[49m\u001b[38;5;241;43m25\u001b[39;49m\u001b[43m)\u001b[49m\n\u001b[0;32m     14\u001b[0m \u001b[38;5;28mprint\u001b[39m(\u001b[38;5;124mf\u001b[39m\u001b[38;5;124m\"\u001b[39m\u001b[38;5;124mEl promedio de goles por partido del goleador o goleadora \u001b[39m\u001b[38;5;132;01m{\u001b[39;00mtop_scorer_name\u001b[38;5;132;01m}\u001b[39;00m\u001b[38;5;124m es \u001b[39m\u001b[38;5;132;01m{\u001b[39;00mtop_scorer_average_goals\u001b[38;5;132;01m:\u001b[39;00m\u001b[38;5;124m.2f\u001b[39m\u001b[38;5;132;01m}\u001b[39;00m\u001b[38;5;124m goles.\u001b[39m\u001b[38;5;124m\"\u001b[39m)\n",
      "Cell \u001b[1;32mIn[53], line 37\u001b[0m, in \u001b[0;36mcalculate_top_scorer_average_goals\u001b[1;34m(player_stats, total_matches)\u001b[0m\n\u001b[0;32m     35\u001b[0m \u001b[38;5;28;01mdef\u001b[39;00m \u001b[38;5;21mcalculate_top_scorer_average_goals\u001b[39m(player_stats, total_matches):\n\u001b[0;32m     36\u001b[0m     \u001b[38;5;66;03m# Encuentra al goleador o goleadora\u001b[39;00m\n\u001b[1;32m---> 37\u001b[0m     top_scorer \u001b[38;5;241m=\u001b[39m \u001b[43mfind_top_scorer\u001b[49m(player_stats)\n\u001b[0;32m     38\u001b[0m     name, stats \u001b[38;5;241m=\u001b[39m top_scorer\n\u001b[0;32m     39\u001b[0m     total_goals \u001b[38;5;241m=\u001b[39m stats[\u001b[38;5;124m\"\u001b[39m\u001b[38;5;124mGoals: \u001b[39m\u001b[38;5;124m\"\u001b[39m]\n",
      "\u001b[1;31mNameError\u001b[0m: name 'find_top_scorer' is not defined"
     ]
    }
   ],
   "source": [
    "# Genera la estructura de datos de los jugadores\n",
    "player_stats = generate_estructure(names, goals, assists, goals_avoided)\n",
    "# Usa la función sub_inciso2 para encontrar al goleador o goleadora\n",
    "playere_score = sub_inciso2(player_stats)\n",
    "print(f\"El goleador o goleadora es {playere_score[0]} con {playere_score[1]['Goals: ']} goles.\")\n",
    "# Encuentra al jugador más influyente\n",
    "most_influential_player = find_most_influential_player(player_stats)\n",
    "print(f\"El jugador o jugadora más influyente es {most_influential_player[0]} con un valor ponderado de {most_influential_player[1]['Influence Score']}.\")\n",
    "#Calculo promedio de goles de los 25 partidos\n",
    "team_average_goals = calculate_team_average_goals(player_stats, 25)\n",
    "print(f\"El promedio de goles por partido del equipo es {team_average_goals:.2f} goles.\")\n",
    "# Calcula el promedio de goles por partido del goleador o goleadora\n",
    "top_scorer_name, top_scorer_average_goals = calculate_top_scorer_average_goals(player_stats, 25)\n",
    "print(f\"El promedio de goles por partido del goleador o goleadora {top_scorer_name} es {top_scorer_average_goals:.2f} goles.\")"
   ]
  }
 ],
 "metadata": {
  "kernelspec": {
   "display_name": "Python 3",
   "language": "python",
   "name": "python3"
  },
  "language_info": {
   "codemirror_mode": {
    "name": "ipython",
    "version": 3
   },
   "file_extension": ".py",
   "mimetype": "text/x-python",
   "name": "python",
   "nbconvert_exporter": "python",
   "pygments_lexer": "ipython3",
   "version": "3.11.2"
  }
 },
 "nbformat": 4,
 "nbformat_minor": 2
}
